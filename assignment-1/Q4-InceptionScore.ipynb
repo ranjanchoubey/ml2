{
  "cells": [
    {
      "cell_type": "markdown",
      "metadata": {
        "id": "view-in-github",
        "colab_type": "text"
      },
      "source": [
        "<a href=\"https://colab.research.google.com/github/ranjanchoubey/ml2/blob/main/assignment-1/Q4-InceptionScore.ipynb\" target=\"_parent\"><img src=\"https://colab.research.google.com/assets/colab-badge.svg\" alt=\"Open In Colab\"/></a>"
      ]
    },
    {
      "cell_type": "markdown",
      "source": [
        "<pre>\n",
        "Name : Ranjan Kumar Choubey\n",
        "Class : M.Tech CS 2023-25\n",
        "Roll No : CS2316\n",
        "</pre>"
      ],
      "metadata": {
        "id": "1XCJwOXRv6mT"
      }
    },
    {
      "cell_type": "markdown",
      "metadata": {
        "id": "UGkz-aT0v3fo"
      },
      "source": [
        "![heading.png](https://github.com/ranjanchoubey/ml2/blob/main/assignment-1/assets/heading.png?raw=1)"
      ]
    },
    {
      "cell_type": "markdown",
      "metadata": {
        "id": "gDJMxm7Tv3fp"
      },
      "source": [
        "![q4.1.png](https://github.com/ranjanchoubey/ml2/blob/main/assignment-1/assets/q4.1.png?raw=1)"
      ]
    },
    {
      "cell_type": "markdown",
      "source": [
        "**Solution :**"
      ],
      "metadata": {
        "id": "0B7A2Hm_ySuu"
      }
    },
    {
      "cell_type": "markdown",
      "source": [
        "\n",
        "**Inception Score (IS) :**  It is  a metric that uses a pre-trained Inception network to evaluate the quality and diversity of generated images.\n",
        "\n",
        "- It measures how diverse the generated samples are and how well they match the distribution of real images.\n",
        "\n",
        "$$\n",
        "IS = \\exp\\left(\\mathbb{E}_{\\mathbf{x} \\sim p_g} \\left[D_{\\text{KL}}\\left(p(y \\mid \\mathbf{x}) \\mid \\mid p(y)\\right)\\right]\\right)\n",
        "$$\n",
        "\n",
        "\n",
        "<br>\n",
        "\n",
        "**Fréchet Inception Distance (FID) :** It is a metric that compares the statistics of generated images to real images in the feature space of a pre-trained Inception network.\n",
        " - It measures both the quality and diversity of generated images.\n",
        "\n",
        "$$\n",
        "FID = ||\\mu_r - \\mu_g||^2 + \\text{Tr}(\\Sigma_r + \\Sigma_g - 2\\sqrt{\\Sigma_r \\Sigma_g})\n",
        "$$\n",
        "\n",
        "<br>\n"
      ],
      "metadata": {
        "id": "mFHeZMWCv3fq"
      }
    },
    {
      "cell_type": "markdown",
      "source": [
        "\n",
        "---\n",
        "#### **Comparison :**  Inception Score (IS) vs Fréchet Inception Distance (FID)\n",
        "\n",
        "<br>\n",
        "\n",
        "| Aspect | Inception Score (IS) | Fréchet Inception Distance (FID) |\n",
        "|--------|----------------------|----------------------------------|\n",
        "| **Pros** | • Correlates well with human judgment<br>• Considers quality and diversity<br>• Widely used and accepted | • More robust to mode collapse<br>• Sensitive to visual quality and diversity<br>• Generally considered more reliable |\n",
        "| **Cons** | • Can be fooled by mode collapse<br>• Depends on specific pre-trained model<br>• May not capture all quality aspects | • Depends on pre-trained model<br>• Computationally expensive for large datasets<br>• May miss fine-grained details |\n",
        "| **Focus** | More on classification-based quality | Overall distribution of images |\n",
        "| **Reliability** | Less reliable than FID | Generally more reliable |\n",
        "| **Usage** | Often used alongside other metrics | Often used alongside other metrics |\n",
        "\n",
        "\n",
        "<br>\n",
        "\n",
        "\n",
        "**Note:** Both metrics have limitations and are best used in conjunction with other evaluation methods, including human evaluation. Researchers typically use both metrics along with others to get a more complete picture of generative model performance."
      ],
      "metadata": {
        "id": "vMYKK7CdxiLg"
      }
    },
    {
      "cell_type": "markdown",
      "source": [
        "**END**\n",
        "\n",
        "---"
      ],
      "metadata": {
        "id": "eNY0GtTu0I_Q"
      }
    }
  ],
  "metadata": {
    "language_info": {
      "name": "python"
    },
    "colab": {
      "provenance": [],
      "include_colab_link": true
    },
    "kernelspec": {
      "name": "python3",
      "display_name": "Python 3"
    }
  },
  "nbformat": 4,
  "nbformat_minor": 0
}