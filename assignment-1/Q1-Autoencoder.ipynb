{
  "cells": [
    {
      "cell_type": "markdown",
      "metadata": {
        "id": "view-in-github",
        "colab_type": "text"
      },
      "source": [
        "<a href=\"https://colab.research.google.com/github/ranjanchoubey/ml2/blob/main/assignment-1/Q1-Autoencoder.ipynb\" target=\"_parent\"><img src=\"https://colab.research.google.com/assets/colab-badge.svg\" alt=\"Open In Colab\"/></a>"
      ]
    },
    {
      "cell_type": "markdown",
      "metadata": {
        "id": "fBCSpIKzGOnk"
      },
      "source": [
        "<!-- ![image.png](attachment:image.png) -->"
      ]
    },
    {
      "cell_type": "markdown",
      "metadata": {
        "id": "Knwx7FD5Mq-9"
      },
      "source": [
        "![heading](https://raw.githubusercontent.com/ranjanchoubey/ml2/main/assignment-1/assets/heading.png)"
      ]
    },
    {
      "cell_type": "markdown",
      "metadata": {
        "id": "QDbxIObyGOnl"
      },
      "source": [
        "![Problem 1](https://raw.githubusercontent.com/ranjanchoubey/ml2/main/assignment-1/assets/q1.1.png)"
      ]
    },
    {
      "cell_type": "markdown",
      "metadata": {
        "id": "AQ53PceSGOnl"
      },
      "source": [
        "\n",
        "**Ans : -** **Denoising Autoencoder** (DAE) is a type of neural network that helps to find useful patterns in data.\n",
        "- It is often used to reduce the number of features or to learn important features.\n",
        "\n",
        "-  The key idea behind a Denoising Autoencoder is to train the network to reconstruct the original input from a corrupted version of it.\n",
        "\n",
        "- This process forces the network to learn robust features that can capture the underlying structure of the data, even in the presence of noise.\n"
      ]
    },
    {
      "cell_type": "markdown",
      "metadata": {
        "id": "U79gjdXiGOnm"
      },
      "source": [
        "**Pseudocode for Denoising Autoencoder Training Loop**\n",
        "\n",
        "---\n",
        "\n",
        "- **Step 1.** Initialize the autoencoder model $f_{\\theta}$\n",
        "- **Step 2.** Define the loss function $\\mathcal{L}$ (e.g., Mean Squared Error)\n",
        "- **Step 3.** Define the optimizer (e.g., Adam)\n",
        "- **Step 4.** Set the number of epochs $N$ and batch size $B$\n",
        "- **Step 5.** For each epoch $n$ from 1 to $N$:\n",
        "    - For each batch of data $\\{x_i\\}_{i=1}^{B}$:\n",
        "        - **i.** Add noise to the input data to create a corrupted version $\\tilde{x} = x + \\text{noise}$  \n",
        "        - **ii.** Forward pass: Pass the corrupted data through the autoencoder to get the reconstructed output $\\hat{x} = f_{\\theta}(\\tilde{x})$  \n",
        "        - **iii.** Compute the loss $\\mathcal{L}(\\hat{x}, x)$ between the reconstructed output and the original input  \n",
        "        - **iv.** Backward pass: Compute the gradients of the loss with respect to the model parameters $\\nabla_{\\theta} \\mathcal{L}$  \n",
        "        - **v.** Update the model parameters using the optimizer $\\theta \\leftarrow \\theta - \\eta \\nabla_{\\theta} \\mathcal{L}$       \n",
        "- **Step 6.** Evaluate the model on a validation set (optional)\n",
        "- **Step 7.** Save the trained model (optional)\n",
        "\n",
        "---\n"
      ]
    },
    {
      "cell_type": "markdown",
      "metadata": {
        "id": "9AI21S_7GOnm"
      },
      "source": [
        "![q1.2.png](https://github.com/ranjanchoubey/ml2/blob/main/assignment-1/assets/q1.2.png?raw=1)"
      ]
    },
    {
      "cell_type": "code",
      "source": [
        "import torch\n",
        "import torchvision\n",
        "import torch.nn as nn\n",
        "import torchvision.transforms as transforms\n",
        "import torch.optim as optim\n",
        "import matplotlib.pyplot as plt"
      ],
      "metadata": {
        "id": "uwNP0wPhO1jz"
      },
      "execution_count": 1,
      "outputs": []
    },
    {
      "cell_type": "code",
      "execution_count": null,
      "metadata": {
        "id": "UyJ3LXiBGOnm"
      },
      "outputs": [],
      "source": [
        "\n",
        "\n",
        "# Step 1: Data Preparation\n",
        "\n",
        "# Define transformations for the dataset\n",
        "tensor_transform = transforms.Compose([\n",
        "    transforms.ToTensor(),\n",
        "])\n",
        "\n",
        "# Load the MNIST dataset\n",
        "train_set = torchvision.datasets.MNIST(root=\"./data\", train=True, download=True, transform=tensor_transform)\n",
        "test_set = torchvision.datasets.MNIST(root=\"./data\", train=False, download=True, transform=tensor_transform)\n",
        "\n",
        "# Create DataLoader for training and testing\n",
        "train_loader = torch.utils.data.DataLoader(dataset=train_set, batch_size=32, shuffle=True)\n",
        "test_loader = torch.utils.data.DataLoader(dataset=test_set, batch_size=32, shuffle=True)\n",
        "\n",
        "# Step 2: Define the Denoising Autoencoder Model\n",
        "\n",
        "class DenoisingAutoencoder(nn.Module):\n",
        "    def __init__(self):\n",
        "        super(DenoisingAutoencoder, self).__init__()\n",
        "        # Define the encoder\n",
        "        self.encoder = nn.Sequential(\n",
        "            nn.Linear(28*28, 128),\n",
        "            nn.ReLU(),\n",
        "            nn.Linear(128, 64),\n",
        "            nn.ReLU(),\n",
        "            nn.Linear(64, 32),\n",
        "            nn.ReLU()\n",
        "        )\n",
        "        # Define the decoder\n",
        "        self.decoder = nn.Sequential(\n",
        "            nn.Linear(32, 64),\n",
        "            nn.ReLU(),\n",
        "            nn.Linear(64, 128),\n",
        "            nn.ReLU(),\n",
        "            nn.Linear(128, 28*28),\n",
        "            nn.Sigmoid()\n",
        "        )\n",
        "\n",
        "    def forward(self, x):\n",
        "        x = self.encoder(x)\n",
        "        x = self.decoder(x)\n",
        "        return x\n",
        "\n",
        "# Step 3: Define the Loss Function and Optimizer\n",
        "\n",
        "model = DenoisingAutoencoder()\n",
        "criterion = nn.MSELoss()\n",
        "optimizer = optim.Adam(model.parameters(), lr=0.001)\n",
        "\n",
        "# Step 4: Training the Denoising Autoencoder\n",
        "\n",
        "patch_size = 8\n",
        "num_epochs = 20\n",
        "\n",
        "for epoch in range(num_epochs):\n",
        "    for data in train_loader:\n",
        "        img, _ = data\n",
        "\n",
        "        # Create a copy of the original images\n",
        "        noisy_img = img.clone()\n",
        "\n",
        "        # Add noise to a randomly selected 8x8 patch\n",
        "        for i in range(noisy_img.size(0)):  # Iterate through each image in the batch\n",
        "            x_start = torch.randint(0, 28-patch_size, (1,)).item()\n",
        "            y_start = torch.randint(0, 28-patch_size, (1,)).item()\n",
        "            noisy_img[i, 0, x_start:x_start+patch_size, y_start:y_start+patch_size] += 0.5 * torch.randn(patch_size, patch_size)\n",
        "\n",
        "        noisy_img = torch.clamp(noisy_img, 0., 1.)\n",
        "\n",
        "        # Forward pass: compute the output and loss\n",
        "        output = model(noisy_img.view(-1, 28*28))\n",
        "        loss = criterion(output, img.view(-1, 28*28))\n",
        "\n",
        "        # Backward pass and optimization\n",
        "        optimizer.zero_grad()\n",
        "        loss.backward()\n",
        "        optimizer.step()\n",
        "\n",
        "    print(f'Epoch [{epoch+1}/{num_epochs}], Loss: {loss.item():.4f}')\n",
        "\n",
        "    # Step 5: Visualize the results\n",
        "    with torch.no_grad():\n",
        "        output = output.view(-1, 1, 28, 28)\n",
        "        img = img.view(-1, 1, 28, 28)\n",
        "        noisy_img = noisy_img.view(-1, 1, 28, 28)\n",
        "\n",
        "        # Plotting\n",
        "        fig, axes = plt.subplots(1, 3, figsize=(9, 3))\n",
        "        axes[0].imshow(img[0].cpu().squeeze(), cmap='gray')\n",
        "        axes[0].set_title('Original Image')\n",
        "        axes[0].axis('off')\n",
        "\n",
        "        axes[1].imshow(noisy_img[0].cpu().squeeze(), cmap='gray')\n",
        "        axes[1].set_title('Noisy Image (Patch)')\n",
        "        axes[1].axis('off')\n",
        "\n",
        "        axes[2].imshow(output[0].cpu().squeeze(), cmap='gray')\n",
        "        axes[2].set_title('Denoised Image')\n",
        "        axes[2].axis('off')\n",
        "\n",
        "        plt.show()\n",
        "\n",
        "# Step 6: Evaluate the Model\n",
        "# Optionally, you can evaluate the model on the test set using the same approach\n"
      ]
    },
    {
      "cell_type": "code",
      "execution_count": null,
      "metadata": {
        "id": "lyjwGKBuGOnn"
      },
      "outputs": [],
      "source": []
    }
  ],
  "metadata": {
    "colab": {
      "provenance": [],
      "include_colab_link": true
    },
    "kernelspec": {
      "display_name": "Python 3",
      "language": "python",
      "name": "python3"
    },
    "language_info": {
      "codemirror_mode": {
        "name": "ipython",
        "version": 3
      },
      "file_extension": ".py",
      "mimetype": "text/x-python",
      "name": "python",
      "nbconvert_exporter": "python",
      "pygments_lexer": "ipython3",
      "version": "3.10.12"
    }
  },
  "nbformat": 4,
  "nbformat_minor": 0
}