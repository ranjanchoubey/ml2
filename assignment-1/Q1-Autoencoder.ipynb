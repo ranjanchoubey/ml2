{
  "cells": [
    {
      "cell_type": "markdown",
      "metadata": {
        "id": "view-in-github",
        "colab_type": "text"
      },
      "source": [
        "<a href=\"https://colab.research.google.com/github/ranjanchoubey/ml2/blob/main/assignment-1/Q1-Autoencoder.ipynb\" target=\"_parent\"><img src=\"https://colab.research.google.com/assets/colab-badge.svg\" alt=\"Open In Colab\"/></a>"
      ]
    },
    {
      "cell_type": "markdown",
      "metadata": {
        "id": "fBCSpIKzGOnk"
      },
      "source": [
        "<!-- ![image.png](attachment:image.png) -->"
      ]
    },
    {
      "cell_type": "markdown",
      "metadata": {
        "id": "Knwx7FD5Mq-9"
      },
      "source": [
        "![heading.png](https://github.com/ranjanchoubey/ml2/blob/main/assignment-1/assets/heading.png?raw=1)"
      ]
    },
    {
      "cell_type": "markdown",
      "metadata": {
        "id": "QDbxIObyGOnl"
      },
      "source": [
        "![q1.1.png](https://github.com/ranjanchoubey/ml2/blob/main/assignment-1/assets/q1.1.png?raw=1)"
      ]
    },
    {
      "cell_type": "markdown",
      "metadata": {
        "id": "AQ53PceSGOnl"
      },
      "source": [
        "\n",
        "**Ans : -** **Denoising Autoencoder** (DAE) is a type of neural network that helps to find useful patterns in data.\n",
        "- It is often used to reduce the number of features or to learn important features.\n",
        "\n",
        "-  The key idea behind a Denoising Autoencoder is to train the network to reconstruct the original input from a corrupted version of it.\n",
        "\n",
        "- This process forces the network to learn robust features that can capture the underlying structure of the data, even in the presence of noise.\n"
      ]
    },
    {
      "cell_type": "markdown",
      "metadata": {
        "id": "U79gjdXiGOnm"
      },
      "source": [
        "**Pseudocode for Denoising Autoencoder Training Loop**\n",
        "\n",
        "---\n",
        "\n",
        "- **Step 1.** Initialize the autoencoder model $f_{\\theta}$\n",
        "- **Step 2.** Define the loss function $\\mathcal{L}$ (e.g., Mean Squared Error)\n",
        "- **Step 3.** Define the optimizer (e.g., Adam)\n",
        "- **Step 4.** Set the number of epochs $N$ and batch size $B$\n",
        "- **Step 5.** For each epoch $n$ from 1 to $N$:\n",
        "    - For each batch of data $\\{x_i\\}_{i=1}^{B}$:\n",
        "        - **i.** Add noise to the input data to create a corrupted version $\\tilde{x} = x + \\text{noise}$  \n",
        "        - **ii.** Forward pass: Pass the corrupted data through the autoencoder to get the reconstructed output $\\hat{x} = f_{\\theta}(\\tilde{x})$  \n",
        "        - **iii.** Compute the loss $\\mathcal{L}(\\hat{x}, x)$ between the reconstructed output and the original input  \n",
        "        - **iv.** Backward pass: Compute the gradients of the loss with respect to the model parameters $\\nabla_{\\theta} \\mathcal{L}$  \n",
        "        - **v.** Update the model parameters using the optimizer $\\theta \\leftarrow \\theta - \\eta \\nabla_{\\theta} \\mathcal{L}$       \n",
        "- **Step 6.** Evaluate the model on a validation set (optional)\n",
        "- **Step 7.** Save the trained model (optional)\n",
        "\n",
        "---\n"
      ]
    },
    {
      "cell_type": "markdown",
      "metadata": {
        "id": "9AI21S_7GOnm"
      },
      "source": [
        "![q1.2.png](https://github.com/ranjanchoubey/ml2/blob/main/assignment-1/assets/q1.2.png?raw=1)"
      ]
    },
    {
      "cell_type": "code",
      "execution_count": null,
      "metadata": {
        "id": "UyJ3LXiBGOnm"
      },
      "outputs": [],
      "source": []
    },
    {
      "cell_type": "code",
      "execution_count": null,
      "metadata": {
        "id": "lyjwGKBuGOnn"
      },
      "outputs": [],
      "source": []
    }
  ],
  "metadata": {
    "colab": {
      "provenance": [],
      "include_colab_link": true
    },
    "kernelspec": {
      "display_name": "Python 3",
      "language": "python",
      "name": "python3"
    },
    "language_info": {
      "codemirror_mode": {
        "name": "ipython",
        "version": 3
      },
      "file_extension": ".py",
      "mimetype": "text/x-python",
      "name": "python",
      "nbconvert_exporter": "python",
      "pygments_lexer": "ipython3",
      "version": "3.10.12"
    }
  },
  "nbformat": 4,
  "nbformat_minor": 0
}