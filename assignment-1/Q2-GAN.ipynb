{
  "cells": [
    {
      "cell_type": "markdown",
      "metadata": {
        "id": "view-in-github",
        "colab_type": "text"
      },
      "source": [
        "<a href=\"https://colab.research.google.com/github/ranjanchoubey/ml2/blob/main/assignment-1/Q2-GAN.ipynb\" target=\"_parent\"><img src=\"https://colab.research.google.com/assets/colab-badge.svg\" alt=\"Open In Colab\"/></a>"
      ]
    },
    {
      "cell_type": "markdown",
      "source": [
        "<pre>\n",
        "Name : Ranjan Kumar Choubey\n",
        "Class : M.Tech CS 2023-25\n",
        "Roll No : CS2316\n",
        "</pre>"
      ],
      "metadata": {
        "id": "9KeHP4p1KdCJ"
      }
    },
    {
      "cell_type": "markdown",
      "metadata": {
        "id": "31xDm-30KMDt"
      },
      "source": [
        "![heading](https://raw.githubusercontent.com/ranjanchoubey/ml2/main/assignment-1/assets/heading.png)"
      ]
    },
    {
      "cell_type": "markdown",
      "metadata": {
        "id": "IT3xJKjoKMDu"
      },
      "source": [
        "![q2.1.png](https://raw.githubusercontent.com/ranjanchoubey/ml2/main/assignment-1/assets/q2.1.png)"
      ]
    },
    {
      "cell_type": "code",
      "execution_count": null,
      "metadata": {
        "id": "lZi8w_sIKMDu"
      },
      "outputs": [],
      "source": []
    },
    {
      "cell_type": "code",
      "source": [],
      "metadata": {
        "id": "p3cD7fZXKx0v"
      },
      "execution_count": null,
      "outputs": []
    },
    {
      "cell_type": "code",
      "source": [],
      "metadata": {
        "id": "hHzwTLi9Kxtl"
      },
      "execution_count": null,
      "outputs": []
    },
    {
      "cell_type": "code",
      "source": [],
      "metadata": {
        "id": "fN7PABqjKyoV"
      },
      "execution_count": null,
      "outputs": []
    },
    {
      "cell_type": "code",
      "source": [],
      "metadata": {
        "id": "hUwcWoHHKybu"
      },
      "execution_count": null,
      "outputs": []
    },
    {
      "cell_type": "code",
      "source": [],
      "metadata": {
        "id": "ssTysywpKyYV"
      },
      "execution_count": null,
      "outputs": []
    },
    {
      "cell_type": "markdown",
      "source": [
        "<br>\n",
        "<hr>\n",
        "<br>"
      ],
      "metadata": {
        "id": "NJNXf8TkK9jX"
      }
    },
    {
      "cell_type": "markdown",
      "metadata": {
        "id": "vOH4dgwaKMDu"
      },
      "source": [
        "\n",
        "\n",
        "![q2.2.png](https://raw.githubusercontent.com/ranjanchoubey/ml2/main/assignment-1/assets/q2.2.png)"
      ]
    },
    {
      "cell_type": "code",
      "execution_count": null,
      "metadata": {
        "id": "vTBfChDbKMDu"
      },
      "outputs": [],
      "source": []
    },
    {
      "cell_type": "code",
      "source": [],
      "metadata": {
        "id": "c9sLU__eLCQS"
      },
      "execution_count": null,
      "outputs": []
    },
    {
      "cell_type": "code",
      "source": [],
      "metadata": {
        "id": "Yr3RWHsyLCM4"
      },
      "execution_count": null,
      "outputs": []
    },
    {
      "cell_type": "code",
      "source": [],
      "metadata": {
        "id": "ppU2hJgaLCKK"
      },
      "execution_count": null,
      "outputs": []
    },
    {
      "cell_type": "code",
      "source": [],
      "metadata": {
        "id": "iP_gwLW8LCHk"
      },
      "execution_count": null,
      "outputs": []
    },
    {
      "cell_type": "code",
      "source": [],
      "metadata": {
        "id": "_nGbRNSkLCEu"
      },
      "execution_count": null,
      "outputs": []
    },
    {
      "cell_type": "code",
      "source": [],
      "metadata": {
        "id": "-QI5EibdLCCH"
      },
      "execution_count": null,
      "outputs": []
    },
    {
      "cell_type": "markdown",
      "source": [
        "<br>\n",
        "<hr>\n",
        "<br>"
      ],
      "metadata": {
        "id": "Mbe8CGhtK_uL"
      }
    },
    {
      "cell_type": "markdown",
      "metadata": {
        "id": "0c3BukfxKMDu"
      },
      "source": [
        "![q2.3.png](https://raw.githubusercontent.com/ranjanchoubey/ml2/main/assignment-1/assets/q2.3.png)\n",
        "![gan.png](https://raw.githubusercontent.com/ranjanchoubey/ml2/main/assignment-1/assets/gan.png)\n",
        "![gan-algo.png](https://raw.githubusercontent.com/ranjanchoubey/ml2/main/assignment-1/assets/gan-algo.png)\n",
        "![gan-dataset.png](https://raw.githubusercontent.com/ranjanchoubey/ml2/main/assignment-1/assets/gan-dataset.png)\n",
        "\n"
      ]
    },
    {
      "cell_type": "code",
      "execution_count": null,
      "metadata": {
        "id": "L8oarFl6KMDv"
      },
      "outputs": [],
      "source": []
    },
    {
      "cell_type": "code",
      "source": [],
      "metadata": {
        "id": "zNnV91wrLD59"
      },
      "execution_count": null,
      "outputs": []
    },
    {
      "cell_type": "code",
      "source": [],
      "metadata": {
        "id": "s5YaJlNDLD2e"
      },
      "execution_count": null,
      "outputs": []
    },
    {
      "cell_type": "code",
      "source": [],
      "metadata": {
        "id": "xLlPdHaeLDz-"
      },
      "execution_count": null,
      "outputs": []
    },
    {
      "cell_type": "code",
      "source": [],
      "metadata": {
        "id": "6xLYov3KLDxY"
      },
      "execution_count": null,
      "outputs": []
    },
    {
      "cell_type": "code",
      "source": [],
      "metadata": {
        "id": "EIAH4GGkLDux"
      },
      "execution_count": null,
      "outputs": []
    },
    {
      "cell_type": "code",
      "source": [],
      "metadata": {
        "id": "51QH4xYxLDst"
      },
      "execution_count": null,
      "outputs": []
    }
  ],
  "metadata": {
    "language_info": {
      "name": "python"
    },
    "colab": {
      "provenance": [],
      "include_colab_link": true
    }
  },
  "nbformat": 4,
  "nbformat_minor": 0
}